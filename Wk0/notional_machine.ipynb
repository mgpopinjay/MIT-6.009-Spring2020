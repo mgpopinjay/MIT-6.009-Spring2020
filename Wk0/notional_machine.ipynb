{
 "cells": [
  {
   "cell_type": "markdown",
   "metadata": {},
   "source": [
    "# Python Notional Machine"
   ]
  },
  {
   "cell_type": "markdown",
   "metadata": {},
   "source": [
    "Our goal is to refresh ourselves on basics (and some subtleties) associated with Python's data and computational model. Along the way, we'll also use or refresh ourselves on the <b>environment model</b> as a way to think about and keep track of the effect of executing python code (in particular, keeping track of variable bindings)."
   ]
  },
  {
   "cell_type": "markdown",
   "metadata": {},
   "source": [
    "## Variables and data types"
   ]
  },
  {
   "cell_type": "markdown",
   "metadata": {},
   "source": [
    "### Integers"
   ]
  },
  {
   "cell_type": "code",
   "execution_count": 1,
   "metadata": {},
   "outputs": [
    {
     "name": "stdout",
     "output_type": "stream",
     "text": [
      "a: 307 \n",
      "b: 307\n"
     ]
    }
   ],
   "source": [
    "a = 307\n",
    "b = a\n",
    "print('a:', a, '\\nb:', b)"
   ]
  },
  {
   "cell_type": "code",
   "execution_count": 2,
   "metadata": {},
   "outputs": [
    {
     "name": "stdout",
     "output_type": "stream",
     "text": [
      "a: 1017 \n",
      "b: 307\n"
     ]
    }
   ],
   "source": [
    "a = a + 310\n",
    "a += 400\n",
    "print('a:', a, '\\nb:', b)"
   ]
  },
  {
   "cell_type": "markdown",
   "metadata": {},
   "source": [
    "So far so good -- integers, and variables pointing to integers, are straightforward."
   ]
  },
  {
   "cell_type": "markdown",
   "metadata": {},
   "source": [
    "### Lists"
   ]
  },
  {
   "cell_type": "code",
   "execution_count": 3,
   "metadata": {},
   "outputs": [
    {
     "name": "stdout",
     "output_type": "stream",
     "text": [
      "x: ['baz', 302, 303, 304]\n"
     ]
    }
   ],
   "source": [
    "x = ['baz', 302, 303, 304]\n",
    "print('x:', x)"
   ]
  },
  {
   "cell_type": "code",
   "execution_count": 4,
   "metadata": {},
   "outputs": [
    {
     "name": "stdout",
     "output_type": "stream",
     "text": [
      "y: ['baz', 302, 303, 304]\n"
     ]
    }
   ],
   "source": [
    "y = x\n",
    "print('y:', y)"
   ]
  },
  {
   "cell_type": "code",
   "execution_count": 5,
   "metadata": {},
   "outputs": [
    {
     "name": "stdout",
     "output_type": "stream",
     "text": [
      "x: 377 \n",
      "y: ['baz', 302, 303, 304]\n"
     ]
    }
   ],
   "source": [
    "x = 377\n",
    "print('x:', x, '\\ny:', y)"
   ]
  },
  {
   "cell_type": "markdown",
   "metadata": {},
   "source": [
    "\n",
    "Unlike integers, lists are mutable:"
   ]
  },
  {
   "cell_type": "code",
   "execution_count": 6,
   "metadata": {},
   "outputs": [
    {
     "name": "stdout",
     "output_type": "stream",
     "text": [
      "x: [388, 302, 303, 304]\n"
     ]
    }
   ],
   "source": [
    "x = y\n",
    "x[0] = 388\n",
    "print('x:', x)"
   ]
  },
  {
   "cell_type": "code",
   "execution_count": 7,
   "metadata": {},
   "outputs": [
    {
     "name": "stdout",
     "output_type": "stream",
     "text": [
      "y: [388, 302, 303, 304]\n"
     ]
    }
   ],
   "source": [
    "print('y:', y)="
   ]
  },
  {
   "cell_type": "markdown",
   "metadata": {},
   "source": [
    "As seen above, we have to be careful about sharing (also known as \"aliasing\") mutable data!"
   ]
  },
  {
   "cell_type": "code",
   "execution_count": 15,
   "metadata": {},
   "outputs": [
    {
     "name": "stdout",
     "output_type": "stream",
     "text": [
      "[[301, 302, 303], [301, 302, 303], [301, 302, 303]]\n"
     ]
    }
   ],
   "source": [
    "a = [301, 302, 303]\n",
    "b = [a, a, a]\n",
    "print(b)"
   ]
  },
  {
   "cell_type": "code",
   "execution_count": 17,
   "metadata": {},
   "outputs": [
    {
     "name": "stdout",
     "output_type": "stream",
     "text": [
      "[[304, 302, 303], [304, 302, 303], [304, 302, 303]]\n"
     ]
    }
   ],
   "source": [
    "b[0][0] = 304\n",
    "print(b)"
   ]
  },
  {
   "cell_type": "markdown",
   "metadata": {},
   "source": []
  },
  {
   "cell_type": "markdown",
   "metadata": {},
   "source": [
    "Tuples are a lot like lists, except that they are immutable."
   ]
  },
  {
   "cell_type": "code",
   "execution_count": 18,
   "metadata": {},
   "outputs": [
    {
     "name": "stdout",
     "output_type": "stream",
     "text": [
      "x: ('baz', [301, 302], 303, 304) \n",
      "y: ('baz', [301, 302], 303, 304)\n"
     ]
    }
   ],
   "source": [
    "x = ('baz', [301, 302], 303, 304)\n",
    "y = x\n",
    "print('x:', x, '\\ny:', y)"
   ]
  },
  {
   "cell_type": "markdown",
   "metadata": {},
   "source": [
    "Unlike a list, we can't change the top most structure of a tuple; trying to change it results in an error:"
   ]
  },
  {
   "cell_type": "code",
   "execution_count": 19,
   "metadata": {},
   "outputs": [
    {
     "ename": "TypeError",
     "evalue": "'tuple' object does not support item assignment",
     "output_type": "error",
     "traceback": [
      "\u001b[0;31m---------------------------------------------------------------------------\u001b[0m",
      "\u001b[0;31mTypeError\u001b[0m                                 Traceback (most recent call last)",
      "\u001b[0;32m<ipython-input-19-8a08f6fbfa16>\u001b[0m in \u001b[0;36m<module>\u001b[0;34m\u001b[0m\n\u001b[0;32m----> 1\u001b[0;31m \u001b[0mx\u001b[0m\u001b[0;34m[\u001b[0m\u001b[0;36m0\u001b[0m\u001b[0;34m]\u001b[0m \u001b[0;34m=\u001b[0m \u001b[0;36m388\u001b[0m\u001b[0;34m\u001b[0m\u001b[0;34m\u001b[0m\u001b[0m\n\u001b[0m",
      "\u001b[0;31mTypeError\u001b[0m: 'tuple' object does not support item assignment"
     ]
    }
   ],
   "source": [
    "x[0] = 388"
   ]
  },
  {
   "cell_type": "markdown",
   "metadata": {},
   "source": [
    "What will happen in the following (operating on x)?"
   ]
  },
  {
   "cell_type": "code",
   "execution_count": 20,
   "metadata": {},
   "outputs": [
    {
     "name": "stdout",
     "output_type": "stream",
     "text": [
      "x: ('baz', [311, 302], 303, 304) \n",
      "y: ('baz', [311, 302], 303, 304)\n"
     ]
    }
   ],
   "source": [
    "x[1][0] = 311\n",
    "print('x:', x, '\\ny:', y)"
   ]
  },
  {
   "cell_type": "markdown",
   "metadata": {},
   "source": [
    "So we still need to be careful! The tuple didn't change at the top level -- but it might have members that are themselves mutable."
   ]
  },
  {
   "cell_type": "markdown",
   "metadata": {},
   "source": [
    "### Strings"
   ]
  },
  {
   "cell_type": "markdown",
   "metadata": {},
   "source": [
    "Strings are also immutable. We can't change them once created. "
   ]
  },
  {
   "cell_type": "code",
   "execution_count": 21,
   "metadata": {},
   "outputs": [
    {
     "name": "stdout",
     "output_type": "stream",
     "text": [
      "a: ya \n",
      "b: yarn\n"
     ]
    }
   ],
   "source": [
    "a = 'ya'\n",
    "b = a + 'rn'\n",
    "print('a:', a, '\\nb:', b)"
   ]
  },
  {
   "cell_type": "code",
   "execution_count": 22,
   "metadata": {},
   "outputs": [
    {
     "ename": "TypeError",
     "evalue": "'str' object does not support item assignment",
     "output_type": "error",
     "traceback": [
      "\u001b[0;31m---------------------------------------------------------------------------\u001b[0m",
      "\u001b[0;31mTypeError\u001b[0m                                 Traceback (most recent call last)",
      "\u001b[0;32m<ipython-input-22-150fa00334bc>\u001b[0m in \u001b[0;36m<module>\u001b[0;34m\u001b[0m\n\u001b[0;32m----> 1\u001b[0;31m \u001b[0ma\u001b[0m\u001b[0;34m[\u001b[0m\u001b[0;36m0\u001b[0m\u001b[0;34m]\u001b[0m \u001b[0;34m=\u001b[0m \u001b[0;34m'Y'\u001b[0m\u001b[0;34m\u001b[0m\u001b[0;34m\u001b[0m\u001b[0m\n\u001b[0m",
      "\u001b[0;31mTypeError\u001b[0m: 'str' object does not support item assignment"
     ]
    }
   ],
   "source": [
    "a[0] = 'Y'"
   ]
  },
  {
   "cell_type": "code",
   "execution_count": 23,
   "metadata": {},
   "outputs": [
    {
     "name": "stdout",
     "output_type": "stream",
     "text": [
      "c: twine thread \n",
      "d: twine\n"
     ]
    }
   ],
   "source": [
    "c = 'twine'\n",
    "d = c\n",
    "c += ' thread'\n",
    "print('c:', c, '\\nd:', d)"
   ]
  },
  {
   "cell_type": "markdown",
   "metadata": {},
   "source": [
    "That's a little bit tricky. Here the '+=' operator makes a copy of c first to use as part of the new string with ' there' included at the end."
   ]
  },
  {
   "cell_type": "markdown",
   "metadata": {},
   "source": [
    "### Back to lists: append, extend, and the '+' and '+=' operators"
   ]
  },
  {
   "cell_type": "code",
   "execution_count": 24,
   "metadata": {},
   "outputs": [
    {
     "name": "stdout",
     "output_type": "stream",
     "text": [
      "x: [301, 302, 303, [304, 305]] \n",
      "y: [301, 302, 303, [304, 305]]\n"
     ]
    }
   ],
   "source": [
    "x = [301, 302, 303]\n",
    "y = x\n",
    "x.append([304, 305])\n",
    "print('x:', x, '\\ny:', y)"
   ]
  },
  {
   "cell_type": "markdown",
   "metadata": {},
   "source": [
    "So again, we have to watch out for aliasing/sharing, whenever we mutate an object."
   ]
  },
  {
   "cell_type": "code",
   "execution_count": 25,
   "metadata": {},
   "outputs": [
    {
     "name": "stdout",
     "output_type": "stream",
     "text": [
      "x: [301, 302, 303, 304, 305] \n",
      "y: [301, 302, 303, 304, 305]\n"
     ]
    }
   ],
   "source": [
    "x = [301, 302, 303]\n",
    "y = x\n",
    "x.extend([304, 305])\n",
    "print('x:', x, '\\ny:', y)"
   ]
  },
  {
   "cell_type": "markdown",
   "metadata": {},
   "source": [
    "What happens when using the '+' operator used on lists?"
   ]
  },
  {
   "cell_type": "code",
   "execution_count": 26,
   "metadata": {},
   "outputs": [
    {
     "name": "stdout",
     "output_type": "stream",
     "text": [
      "x: [301, 302, 303, 304, 305]\n"
     ]
    }
   ],
   "source": [
    "x = [301, 302, 303]\n",
    "y = x\n",
    "x = x + [304, 305]\n",
    "print('x:', x)"
   ]
  },
  {
   "cell_type": "markdown",
   "metadata": {},
   "source": [
    "So the '+' operator on a list looks sort of like extend. But has it changed x in place, or made a copy of x first for use in the longer list?\n",
    "\n",
    "And what happens to <tt>y</tt> in the above?"
   ]
  },
  {
   "cell_type": "code",
   "execution_count": 27,
   "metadata": {},
   "outputs": [
    {
     "name": "stdout",
     "output_type": "stream",
     "text": [
      "y: [301, 302, 303]\n"
     ]
    }
   ],
   "source": [
    "print('y:', y)"
   ]
  },
  {
   "cell_type": "markdown",
   "metadata": {},
   "source": [
    "So that clarifies things -- the \"+\" operator on a list makes a (shallow) copy of the left argument first, then uses that copy in the new larger list."
   ]
  },
  {
   "cell_type": "markdown",
   "metadata": {},
   "source": [
    "## Functions and scoping"
   ]
  },
  {
   "cell_type": "code",
   "execution_count": 28,
   "metadata": {},
   "outputs": [
    {
     "name": "stdout",
     "output_type": "stream",
     "text": [
      "x: 500 \n",
      "foo: <function foo at 0x1040827a0> \n",
      "z: 807\n"
     ]
    }
   ],
   "source": [
    "x = 500\n",
    "def foo(y):\n",
    "    return x + y\n",
    "z = foo(307)\n",
    "print('x:', x, '\\nfoo:', foo, '\\nz:', z)"
   ]
  },
  {
   "cell_type": "code",
   "execution_count": 29,
   "metadata": {},
   "outputs": [
    {
     "name": "stdout",
     "output_type": "stream",
     "text": [
      "x: 500 \n",
      "w: 807\n"
     ]
    }
   ],
   "source": [
    "def bar(x):\n",
    "    x = 1000\n",
    "    return foo(307)\n",
    "w = bar('hi')\n",
    "print('x:', x, '\\nw:', w)"
   ]
  },
  {
   "cell_type": "markdown",
   "metadata": {},
   "source": [
    "Importantly, foo \"remembers\" that it was created in the global environment, so looks in the global environment to find a value for 'x'. It does NOT look back in its \"call chain\"; rather, it looks back in its parent environment."
   ]
  },
  {
   "cell_type": "markdown",
   "metadata": {},
   "source": [
    "### Optional arguments and default values"
   ]
  },
  {
   "cell_type": "code",
   "execution_count": 30,
   "metadata": {},
   "outputs": [
    {
     "name": "stdout",
     "output_type": "stream",
     "text": [
      "a: [307] \n",
      "b: [301, 302, 303, 388]\n"
     ]
    }
   ],
   "source": [
    "def foo(x, y = []):\n",
    "    y = y + [x]\n",
    "    return y\n",
    "\n",
    "a = foo(307)\n",
    "b = foo(388, [301, 302, 303])\n",
    "print('a:', a, '\\nb:', b)"
   ]
  },
  {
   "cell_type": "code",
   "execution_count": 31,
   "metadata": {
    "scrolled": true
   },
   "outputs": [
    {
     "name": "stdout",
     "output_type": "stream",
     "text": [
      "a: [307] \n",
      "b: [301, 302, 303, 388] \n",
      "c: [307]\n"
     ]
    }
   ],
   "source": [
    "c = foo(307)\n",
    "print('a:', a, '\\nb:', b, '\\nc:', c)"
   ]
  },
  {
   "cell_type": "markdown",
   "metadata": {},
   "source": [
    "Let's try something that looks close to the same thing... but with an important difference!"
   ]
  },
  {
   "cell_type": "code",
   "execution_count": 32,
   "metadata": {},
   "outputs": [
    {
     "name": "stdout",
     "output_type": "stream",
     "text": [
      "a: [307] \n",
      "b: [301, 302, 303, 388]\n"
     ]
    }
   ],
   "source": [
    "def foo(x, y = []):\n",
    "    y.append(x)   # different here\n",
    "    return y\n",
    "\n",
    "a = foo(307)\n",
    "b = foo(388, [301, 302, 303])\n",
    "print('a:', a, '\\nb:', b)"
   ]
  },
  {
   "cell_type": "markdown",
   "metadata": {},
   "source": [
    "Okay, so far it looks the same as with the earlier foo."
   ]
  },
  {
   "cell_type": "code",
   "execution_count": 33,
   "metadata": {},
   "outputs": [
    {
     "name": "stdout",
     "output_type": "stream",
     "text": [
      "a: [307, 307] \n",
      "b: [301, 302, 303, 388] \n",
      "c: [307, 307]\n"
     ]
    }
   ],
   "source": [
    "c = foo(307)\n",
    "print('a:', a, '\\nb:', b, '\\nc:', c)"
   ]
  },
  {
   "cell_type": "markdown",
   "metadata": {},
   "source": [
    "So quite different... all kinds of aliasing going on. The moral here is to be VERY careful (and indeed it may be best to simply avoid) having optional/default arguments that are mutable structures like lists... it's hard to remember or debug such aliasing!"
   ]
  },
  {
   "cell_type": "markdown",
   "metadata": {},
   "source": [
    "## Closures"
   ]
  },
  {
   "cell_type": "code",
   "execution_count": 35,
   "metadata": {},
   "outputs": [],
   "source": [
    "def add_n(n):\n",
    "    def inner(x):\n",
    "        return x + n\n",
    "    return inner"
   ]
  },
  {
   "cell_type": "code",
   "execution_count": 41,
   "metadata": {},
   "outputs": [
    {
     "name": "stdout",
     "output_type": "stream",
     "text": [
      "605\n",
      "608\n",
      "617\n"
     ]
    }
   ],
   "source": [
    "add1 = add_n(301)\n",
    "add2 = add_n(302)\n",
    "\n",
    "print(add2(303))\n",
    "print(add1(307)) \n",
    "print(add_n(308)(309))  "
   ]
  },
  {
   "cell_type": "code",
   "execution_count": null,
   "metadata": {},
   "outputs": [],
   "source": []
  }
 ],
 "metadata": {
  "celltoolbar": "Raw Cell Format",
  "kernelspec": {
   "display_name": "Python 3",
   "language": "python",
   "name": "python3"
  },
  "language_info": {
   "codemirror_mode": {
    "name": "ipython",
    "version": 3
   },
   "file_extension": ".py",
   "mimetype": "text/x-python",
   "name": "python",
   "nbconvert_exporter": "python",
   "pygments_lexer": "ipython3",
   "version": "3.7.5"
  }
 },
 "nbformat": 4,
 "nbformat_minor": 2
}
